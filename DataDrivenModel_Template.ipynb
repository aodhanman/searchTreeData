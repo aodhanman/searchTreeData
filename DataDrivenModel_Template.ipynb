{
  "cells": [
    {
      "cell_type": "markdown",
      "source": [
        "## **Allocation of marks**\n",
        "\n",
        "Stages 1,2,3   Total 30%\n",
        "\n",
        "Ideally your dataset will not need a lot of work. Marks going for the choosing,  training, evaluation and refining of model primarily\n",
        "\n",
        "\n",
        "\n",
        "\n",
        "---\n",
        "\n",
        "\n",
        "\n",
        "Stage 4,5       Total 60%\n",
        "\n",
        "Choose your model\n",
        "\n",
        "https://scikit-learn.org/stable/tutorial/machine_learning_map/index.html\n",
        "\n",
        "\n",
        "Train and evaluate your model. Refine the model or choose another estimator or approach?\n",
        "\n",
        "Do not overwrite cells and add commentry between iterations.\n",
        "\n",
        "\n",
        "\n",
        "---\n",
        "\n",
        "\n",
        "\n",
        "\n",
        "Stage 6         Total 10%"
      ],
      "metadata": {
        "id": "sgQZcH7afs47"
      }
    },
    {
      "cell_type": "markdown",
      "source": [
        "# **Stage 1**\n",
        "***Describe Data***\n",
        "\n",
        "A brief description of the data, where you sourced it, headers of the data. Summary statistics, charts etc...\n",
        "\n",
        "If you using data from different sources how you might link them."
      ],
      "metadata": {
        "id": "9f8rIb1E6dQS"
      }
    },
    {
      "cell_type": "code",
      "source": [],
      "metadata": {
        "id": "uY1dExPehLAq"
      },
      "execution_count": null,
      "outputs": []
    },
    {
      "cell_type": "markdown",
      "source": [
        "# **Stage 2**\n",
        "\n",
        "Justification for the property that you would like the model to predict."
      ],
      "metadata": {
        "id": "ZYY0zY7l60al"
      }
    },
    {
      "cell_type": "code",
      "source": [],
      "metadata": {
        "id": "xnK73v7R688t"
      },
      "execution_count": null,
      "outputs": []
    },
    {
      "cell_type": "markdown",
      "source": [
        "# **Stage 3**\n",
        "\n",
        "Cleaning the data, linking datasets etc.. \n",
        "\n"
      ],
      "metadata": {
        "id": "OeanY09K69Le"
      }
    },
    {
      "cell_type": "code",
      "source": [],
      "metadata": {
        "id": "XMIxIidZhMGl"
      },
      "execution_count": null,
      "outputs": []
    },
    {
      "cell_type": "markdown",
      "source": [
        "# **Stage 4**\n",
        "Choose and train Estimator."
      ],
      "metadata": {
        "id": "QOZ3KnxR7QCs"
      }
    },
    {
      "cell_type": "code",
      "source": [],
      "metadata": {
        "id": "WxOtxpYLhM05"
      },
      "execution_count": null,
      "outputs": []
    },
    {
      "cell_type": "markdown",
      "source": [
        "# **Stage 5**\n",
        "Evaluate your model and revisit 4...repeat.."
      ],
      "metadata": {
        "id": "ZIz-Ez-sgsQe"
      }
    },
    {
      "cell_type": "code",
      "source": [],
      "metadata": {
        "id": "tUJT-BYqhNie"
      },
      "execution_count": null,
      "outputs": []
    },
    {
      "cell_type": "markdown",
      "source": [
        "# **Stage 6**\n",
        "***Present results and Conclusions***\n",
        "\n"
      ],
      "metadata": {
        "id": "4APZXYxS7Yef"
      }
    },
    {
      "cell_type": "markdown",
      "source": [],
      "metadata": {
        "id": "joNaHiMMhO6V"
      }
    }
  ],
  "metadata": {
    "interpreter": {
      "hash": "31f2aee4e71d21fbe5cf8b01ff0e069b9275f58929596ceb00d14d90e3e16cd6"
    },
    "kernelspec": {
      "display_name": "Python 3.6.9 64-bit",
      "language": "python",
      "name": "python3"
    },
    "language_info": {
      "codemirror_mode": {
        "name": "ipython",
        "version": 3
      },
      "file_extension": ".py",
      "mimetype": "text/x-python",
      "name": "python",
      "nbconvert_exporter": "python",
      "pygments_lexer": "ipython3",
      "version": "3.6.9"
    },
    "orig_nbformat": 4,
    "colab": {
      "provenance": []
    }
  },
  "nbformat": 4,
  "nbformat_minor": 0
}